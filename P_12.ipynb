{
 "cells": [
  {
   "cell_type": "markdown",
   "id": "3edae695-89b3-4991-85b6-71e4112527ce",
   "metadata": {},
   "source": [
    "## Customer Segmentation (with PCA) \n",
    "\n",
    "### Project Overview\n",
    "* In this project we will start using PCA for dimensionality reduction and then perform customer segmentation with different clustering algorithms.  \n",
    "\n",
    "### Code and Resources Used \n",
    "**Python Version:** 3.7  \n",
    "**Packages:** pandas, numpy, matplotlib, seaborn, sklearn.\n",
    "\n",
    "### Dataset\n",
    "The dataset is from: https://thecleverprogrammer.com/2021/02/08/customer-personality-analysis-with-python/#google_vignette\n"
   ]
  },
  {
   "cell_type": "markdown",
   "id": "829f6f35-095a-489a-82a0-ca762e958962",
   "metadata": {},
   "source": [
    "### Notebook content:\n",
    "\n",
    "1. Exploratory Data Analysis\n",
    "2. Data Preparation\n",
    "3. PCA\n",
    "4. K-mean algorithm \n",
    "5. DBSCAN altorithm \n",
    "6. Conclusion"
   ]
  },
  {
   "cell_type": "code",
   "execution_count": 1,
   "id": "fe5faef9-e84b-47b2-8365-107d6cdf58b4",
   "metadata": {},
   "outputs": [],
   "source": [
    "import numpy as np\n",
    "import pandas as pd\n",
    "import seaborn as sns\n",
    "import matplotlib.pyplot as plt"
   ]
  },
  {
   "cell_type": "code",
   "execution_count": 16,
   "id": "5d17373f-7e81-4d1a-afa8-4b7ae9450ed1",
   "metadata": {},
   "outputs": [],
   "source": [
    "data = pd.read_csv('dataset/marketing_campaign.csv', sep=\"\\t\")"
   ]
  },
  {
   "cell_type": "code",
   "execution_count": 3,
   "id": "1d01ba45-89af-41a9-a715-8b4e3e52891c",
   "metadata": {},
   "outputs": [
    {
     "data": {
      "text/html": [
       "<div>\n",
       "<style scoped>\n",
       "    .dataframe tbody tr th:only-of-type {\n",
       "        vertical-align: middle;\n",
       "    }\n",
       "\n",
       "    .dataframe tbody tr th {\n",
       "        vertical-align: top;\n",
       "    }\n",
       "\n",
       "    .dataframe thead th {\n",
       "        text-align: right;\n",
       "    }\n",
       "</style>\n",
       "<table border=\"1\" class=\"dataframe\">\n",
       "  <thead>\n",
       "    <tr style=\"text-align: right;\">\n",
       "      <th></th>\n",
       "      <th>ID</th>\n",
       "      <th>Year_Birth</th>\n",
       "      <th>Education</th>\n",
       "      <th>Marital_Status</th>\n",
       "      <th>Income</th>\n",
       "      <th>Kidhome</th>\n",
       "      <th>Teenhome</th>\n",
       "      <th>Dt_Customer</th>\n",
       "      <th>Recency</th>\n",
       "      <th>MntWines</th>\n",
       "      <th>...</th>\n",
       "      <th>NumWebVisitsMonth</th>\n",
       "      <th>AcceptedCmp3</th>\n",
       "      <th>AcceptedCmp4</th>\n",
       "      <th>AcceptedCmp5</th>\n",
       "      <th>AcceptedCmp1</th>\n",
       "      <th>AcceptedCmp2</th>\n",
       "      <th>Complain</th>\n",
       "      <th>Z_CostContact</th>\n",
       "      <th>Z_Revenue</th>\n",
       "      <th>Response</th>\n",
       "    </tr>\n",
       "  </thead>\n",
       "  <tbody>\n",
       "    <tr>\n",
       "      <th>0</th>\n",
       "      <td>5524</td>\n",
       "      <td>1957</td>\n",
       "      <td>Graduation</td>\n",
       "      <td>Single</td>\n",
       "      <td>58138.0</td>\n",
       "      <td>0</td>\n",
       "      <td>0</td>\n",
       "      <td>04-09-2012</td>\n",
       "      <td>58</td>\n",
       "      <td>635</td>\n",
       "      <td>...</td>\n",
       "      <td>7</td>\n",
       "      <td>0</td>\n",
       "      <td>0</td>\n",
       "      <td>0</td>\n",
       "      <td>0</td>\n",
       "      <td>0</td>\n",
       "      <td>0</td>\n",
       "      <td>3</td>\n",
       "      <td>11</td>\n",
       "      <td>1</td>\n",
       "    </tr>\n",
       "    <tr>\n",
       "      <th>1</th>\n",
       "      <td>2174</td>\n",
       "      <td>1954</td>\n",
       "      <td>Graduation</td>\n",
       "      <td>Single</td>\n",
       "      <td>46344.0</td>\n",
       "      <td>1</td>\n",
       "      <td>1</td>\n",
       "      <td>08-03-2014</td>\n",
       "      <td>38</td>\n",
       "      <td>11</td>\n",
       "      <td>...</td>\n",
       "      <td>5</td>\n",
       "      <td>0</td>\n",
       "      <td>0</td>\n",
       "      <td>0</td>\n",
       "      <td>0</td>\n",
       "      <td>0</td>\n",
       "      <td>0</td>\n",
       "      <td>3</td>\n",
       "      <td>11</td>\n",
       "      <td>0</td>\n",
       "    </tr>\n",
       "    <tr>\n",
       "      <th>2</th>\n",
       "      <td>4141</td>\n",
       "      <td>1965</td>\n",
       "      <td>Graduation</td>\n",
       "      <td>Together</td>\n",
       "      <td>71613.0</td>\n",
       "      <td>0</td>\n",
       "      <td>0</td>\n",
       "      <td>21-08-2013</td>\n",
       "      <td>26</td>\n",
       "      <td>426</td>\n",
       "      <td>...</td>\n",
       "      <td>4</td>\n",
       "      <td>0</td>\n",
       "      <td>0</td>\n",
       "      <td>0</td>\n",
       "      <td>0</td>\n",
       "      <td>0</td>\n",
       "      <td>0</td>\n",
       "      <td>3</td>\n",
       "      <td>11</td>\n",
       "      <td>0</td>\n",
       "    </tr>\n",
       "    <tr>\n",
       "      <th>3</th>\n",
       "      <td>6182</td>\n",
       "      <td>1984</td>\n",
       "      <td>Graduation</td>\n",
       "      <td>Together</td>\n",
       "      <td>26646.0</td>\n",
       "      <td>1</td>\n",
       "      <td>0</td>\n",
       "      <td>10-02-2014</td>\n",
       "      <td>26</td>\n",
       "      <td>11</td>\n",
       "      <td>...</td>\n",
       "      <td>6</td>\n",
       "      <td>0</td>\n",
       "      <td>0</td>\n",
       "      <td>0</td>\n",
       "      <td>0</td>\n",
       "      <td>0</td>\n",
       "      <td>0</td>\n",
       "      <td>3</td>\n",
       "      <td>11</td>\n",
       "      <td>0</td>\n",
       "    </tr>\n",
       "    <tr>\n",
       "      <th>4</th>\n",
       "      <td>5324</td>\n",
       "      <td>1981</td>\n",
       "      <td>PhD</td>\n",
       "      <td>Married</td>\n",
       "      <td>58293.0</td>\n",
       "      <td>1</td>\n",
       "      <td>0</td>\n",
       "      <td>19-01-2014</td>\n",
       "      <td>94</td>\n",
       "      <td>173</td>\n",
       "      <td>...</td>\n",
       "      <td>5</td>\n",
       "      <td>0</td>\n",
       "      <td>0</td>\n",
       "      <td>0</td>\n",
       "      <td>0</td>\n",
       "      <td>0</td>\n",
       "      <td>0</td>\n",
       "      <td>3</td>\n",
       "      <td>11</td>\n",
       "      <td>0</td>\n",
       "    </tr>\n",
       "  </tbody>\n",
       "</table>\n",
       "<p>5 rows × 29 columns</p>\n",
       "</div>"
      ],
      "text/plain": [
       "     ID  Year_Birth   Education Marital_Status   Income  Kidhome  Teenhome  \\\n",
       "0  5524        1957  Graduation         Single  58138.0        0         0   \n",
       "1  2174        1954  Graduation         Single  46344.0        1         1   \n",
       "2  4141        1965  Graduation       Together  71613.0        0         0   \n",
       "3  6182        1984  Graduation       Together  26646.0        1         0   \n",
       "4  5324        1981         PhD        Married  58293.0        1         0   \n",
       "\n",
       "  Dt_Customer  Recency  MntWines  ...  NumWebVisitsMonth  AcceptedCmp3  \\\n",
       "0  04-09-2012       58       635  ...                  7             0   \n",
       "1  08-03-2014       38        11  ...                  5             0   \n",
       "2  21-08-2013       26       426  ...                  4             0   \n",
       "3  10-02-2014       26        11  ...                  6             0   \n",
       "4  19-01-2014       94       173  ...                  5             0   \n",
       "\n",
       "   AcceptedCmp4  AcceptedCmp5  AcceptedCmp1  AcceptedCmp2  Complain  \\\n",
       "0             0             0             0             0         0   \n",
       "1             0             0             0             0         0   \n",
       "2             0             0             0             0         0   \n",
       "3             0             0             0             0         0   \n",
       "4             0             0             0             0         0   \n",
       "\n",
       "   Z_CostContact  Z_Revenue  Response  \n",
       "0              3         11         1  \n",
       "1              3         11         0  \n",
       "2              3         11         0  \n",
       "3              3         11         0  \n",
       "4              3         11         0  \n",
       "\n",
       "[5 rows x 29 columns]"
      ]
     },
     "execution_count": 3,
     "metadata": {},
     "output_type": "execute_result"
    }
   ],
   "source": [
    "data.head()"
   ]
  },
  {
   "cell_type": "code",
   "execution_count": 4,
   "id": "43bdf142-211f-4541-bad5-56bae1f97b36",
   "metadata": {},
   "outputs": [
    {
     "name": "stdout",
     "output_type": "stream",
     "text": [
      "<class 'pandas.core.frame.DataFrame'>\n",
      "RangeIndex: 2240 entries, 0 to 2239\n",
      "Data columns (total 29 columns):\n",
      " #   Column               Non-Null Count  Dtype  \n",
      "---  ------               --------------  -----  \n",
      " 0   ID                   2240 non-null   int64  \n",
      " 1   Year_Birth           2240 non-null   int64  \n",
      " 2   Education            2240 non-null   object \n",
      " 3   Marital_Status       2240 non-null   object \n",
      " 4   Income               2216 non-null   float64\n",
      " 5   Kidhome              2240 non-null   int64  \n",
      " 6   Teenhome             2240 non-null   int64  \n",
      " 7   Dt_Customer          2240 non-null   object \n",
      " 8   Recency              2240 non-null   int64  \n",
      " 9   MntWines             2240 non-null   int64  \n",
      " 10  MntFruits            2240 non-null   int64  \n",
      " 11  MntMeatProducts      2240 non-null   int64  \n",
      " 12  MntFishProducts      2240 non-null   int64  \n",
      " 13  MntSweetProducts     2240 non-null   int64  \n",
      " 14  MntGoldProds         2240 non-null   int64  \n",
      " 15  NumDealsPurchases    2240 non-null   int64  \n",
      " 16  NumWebPurchases      2240 non-null   int64  \n",
      " 17  NumCatalogPurchases  2240 non-null   int64  \n",
      " 18  NumStorePurchases    2240 non-null   int64  \n",
      " 19  NumWebVisitsMonth    2240 non-null   int64  \n",
      " 20  AcceptedCmp3         2240 non-null   int64  \n",
      " 21  AcceptedCmp4         2240 non-null   int64  \n",
      " 22  AcceptedCmp5         2240 non-null   int64  \n",
      " 23  AcceptedCmp1         2240 non-null   int64  \n",
      " 24  AcceptedCmp2         2240 non-null   int64  \n",
      " 25  Complain             2240 non-null   int64  \n",
      " 26  Z_CostContact        2240 non-null   int64  \n",
      " 27  Z_Revenue            2240 non-null   int64  \n",
      " 28  Response             2240 non-null   int64  \n",
      "dtypes: float64(1), int64(25), object(3)\n",
      "memory usage: 507.6+ KB\n"
     ]
    }
   ],
   "source": [
    "data.info()"
   ]
  },
  {
   "cell_type": "markdown",
   "id": "0d1fb826-fab3-4910-b73d-74dddf2f4ace",
   "metadata": {},
   "source": [
    "The only variable with missing values is Income with just 24."
   ]
  },
  {
   "cell_type": "code",
   "execution_count": 17,
   "id": "d920352f-fcb5-4a8a-a052-013c8e39904c",
   "metadata": {},
   "outputs": [
    {
     "data": {
      "text/plain": [
       "0"
      ]
     },
     "execution_count": 17,
     "metadata": {},
     "output_type": "execute_result"
    }
   ],
   "source": [
    "data.duplicated().sum()"
   ]
  },
  {
   "cell_type": "code",
   "execution_count": 18,
   "id": "8354c5a8-29f7-420f-9059-7aaa81c52d51",
   "metadata": {},
   "outputs": [],
   "source": [
    "data['Income']=data['Income'].fillna(data['Income'].median())"
   ]
  },
  {
   "cell_type": "code",
   "execution_count": 19,
   "id": "4337456a-7626-453d-ba58-ffdc757dc32e",
   "metadata": {},
   "outputs": [
    {
     "name": "stderr",
     "output_type": "stream",
     "text": [
      "C:\\Users\\Usuario\\AppData\\Local\\Temp\\ipykernel_3404\\3270077037.py:1: UserWarning: Parsing dates in DD/MM/YYYY format when dayfirst=False (the default) was specified. This may lead to inconsistently parsed dates! Specify a format to ensure consistent parsing.\n",
      "  data['Dt_Customer'] = pd.to_datetime(data['Dt_Customer'])\n"
     ]
    }
   ],
   "source": [
    "data['Dt_Customer'] = pd.to_datetime(data['Dt_Customer'])\n",
    "# data['Dt_Customer'] = pd.to_datetime(dataLake.day, dayfirst=True) # to set the dayfirst param to true\n",
    "# data['Dt_Customer'] = pd.to_datetime(dataLake.day, format=\"%d/%m/%y\") # set a format "
   ]
  },
  {
   "cell_type": "code",
   "execution_count": 22,
   "id": "a79f6f1b-8460-4611-936b-98541cb6910c",
   "metadata": {},
   "outputs": [
    {
     "data": {
      "text/plain": [
       "0   2012-04-09\n",
       "1   2014-08-03\n",
       "2   2013-08-21\n",
       "3   2014-10-02\n",
       "4   2014-01-19\n",
       "Name: Dt_Customer, dtype: datetime64[ns]"
      ]
     },
     "execution_count": 22,
     "metadata": {},
     "output_type": "execute_result"
    }
   ],
   "source": [
    "data['Dt_Customer'].head()"
   ]
  },
  {
   "cell_type": "markdown",
   "id": "0ed78a72-3834-4275-b627-ccce12d2ef99",
   "metadata": {},
   "source": [
    "    Variables description:\n",
    "    \n",
    "    • Customer data:\n",
    "    ID: Customer's unique identifier\n",
    "    Year_Birth: Customer's birth year\n",
    "    Education: Customer's education level\n",
    "    Marital_Status: Customer's marital status\n",
    "    Income: Customer's yearly household income\n",
    "    Kidhome: Number of children in customer's household\n",
    "    Teenhome: Number of teenagers in customer's household\n",
    "    Dt_Customer: Date of customer's enrollment with the company\n",
    "    Recency: Number of days since customer's last purchase\n",
    "    Complain: 1 if the customer complained in the last 2 years, 0 otherwise\n",
    "    \n",
    "    • Purchases data:\n",
    "    MntWines: Amount spent on wine in last 2 years\n",
    "    MntFruits: Amount spent on fruits in last 2 years\n",
    "    MntMeatProducts: Amount spent on meat in last 2 years\n",
    "    MntFishProducts: Amount spent on fish in last 2 years\n",
    "    MntSweetProducts: Amount spent on sweets in last 2 years\n",
    "    MntGoldProds: Amount spent on gold in last 2 years\n",
    "    \n",
    "    • Promotion data:\n",
    "    NumDealsPurchases: Number of purchases made with a discount\n",
    "    AcceptedCmp1: 1 if customer accepted the offer in the 1st campaign, 0 otherwise\n",
    "    AcceptedCmp2: 1 if customer accepted the offer in the 2nd campaign, 0 otherwise\n",
    "    AcceptedCmp3: 1 if customer accepted the offer in the 3rd campaign, 0 otherwise\n",
    "    AcceptedCmp4: 1 if customer accepted the offer in the 4th campaign, 0 otherwise\n",
    "    AcceptedCmp5: 1 if customer accepted the offer in the 5th campaign, 0 otherwise\n",
    "    Response: 1 if customer accepted the offer in the last campaign, 0 otherwise\n",
    "    \n",
    "    • Purchase channel data:\n",
    "    NumWebPurchases: Number of purchases made through the company’s website\n",
    "    NumCatalogPurchases: Number of purchases made using a catalogue\n",
    "    NumStorePurchases: Number of purchases made directly in stores\n",
    "    NumWebVisitsMonth: Number of visits to company’s website in the last month"
   ]
  },
  {
   "cell_type": "markdown",
   "id": "6f7b5f78-5dd0-41b9-b4ce-b316fa8b525e",
   "metadata": {},
   "source": [
    "### Find numerical variables (continuous, discrete, target)"
   ]
  },
  {
   "cell_type": "code",
   "execution_count": 27,
   "id": "b7e18f1e-4e2e-4549-af0f-671bb1f35e3d",
   "metadata": {},
   "outputs": [
    {
     "name": "stdout",
     "output_type": "stream",
     "text": [
      "There are 25 numerical variables:\n"
     ]
    },
    {
     "data": {
      "text/plain": [
       "['Income',\n",
       " 'Kidhome',\n",
       " 'Teenhome',\n",
       " 'Recency',\n",
       " 'MntWines',\n",
       " 'MntFruits',\n",
       " 'MntMeatProducts',\n",
       " 'MntFishProducts',\n",
       " 'MntSweetProducts',\n",
       " 'MntGoldProds',\n",
       " 'NumDealsPurchases',\n",
       " 'NumWebPurchases',\n",
       " 'NumCatalogPurchases',\n",
       " 'NumStorePurchases',\n",
       " 'NumWebVisitsMonth',\n",
       " 'AcceptedCmp3',\n",
       " 'AcceptedCmp4',\n",
       " 'AcceptedCmp5',\n",
       " 'AcceptedCmp1',\n",
       " 'AcceptedCmp2',\n",
       " 'Complain',\n",
       " 'Response',\n",
       " 'Age',\n",
       " 'Total_Expenses',\n",
       " 'Children']"
      ]
     },
     "execution_count": 27,
     "metadata": {},
     "output_type": "execute_result"
    }
   ],
   "source": [
    "numerical = [var for var in data.columns if data[var].dtype!='O']\n",
    "print('There are {} numerical variables:'.format(len(numerical)))\n",
    "numerical"
   ]
  },
  {
   "cell_type": "markdown",
   "id": "d6ff80c7-6f4b-4464-937d-7b23109db4a8",
   "metadata": {
    "tags": []
   },
   "source": [
    "### Find discrete variables\n",
    "\n",
    "We will select the ones that contain a finite and small number of distinct values from all the numerical ones:"
   ]
  },
  {
   "cell_type": "code",
   "execution_count": 21,
   "id": "2fabd11f-2e76-4df0-ba8c-fa9657eb741b",
   "metadata": {},
   "outputs": [
    {
     "name": "stdout",
     "output_type": "stream",
     "text": [
      "Kidhome values:  [0 1 2]\n",
      "Teenhome values:  [0 1 2]\n",
      "AcceptedCmp3 values:  [0 1]\n",
      "AcceptedCmp4 values:  [0 1]\n",
      "AcceptedCmp5 values:  [0 1]\n",
      "AcceptedCmp1 values:  [0 1]\n",
      "AcceptedCmp2 values:  [0 1]\n",
      "Complain values:  [0 1]\n",
      "Z_CostContact values:  [3]\n",
      "Z_Revenue values:  [11]\n",
      "Response values:  [1 0]\n",
      "\n",
      "There are 11 discrete variables\n"
     ]
    }
   ],
   "source": [
    "discrete = []\n",
    "\n",
    "for var in numerical:\n",
    "    if len(data[var].unique()) < 10:\n",
    "        print(var, 'values: ', data[var].unique())\n",
    "        discrete.append(var)\n",
    "print()\n",
    "print('There are {} discrete variables'.format(len(discrete)))"
   ]
  },
  {
   "cell_type": "markdown",
   "id": "d2b3661d-fcf9-4294-ab57-5623f5ec817c",
   "metadata": {},
   "source": [
    "### Continuous variables"
   ]
  },
  {
   "cell_type": "code",
   "execution_count": 22,
   "id": "95908311-8b80-4637-b174-373e13a0a102",
   "metadata": {},
   "outputs": [
    {
     "name": "stdout",
     "output_type": "stream",
     "text": [
      "There are 16 numerical and continuous variables\n"
     ]
    },
    {
     "data": {
      "text/plain": [
       "['ID',\n",
       " 'Year_Birth',\n",
       " 'Income',\n",
       " 'Dt_Customer',\n",
       " 'Recency',\n",
       " 'MntWines',\n",
       " 'MntFruits',\n",
       " 'MntMeatProducts',\n",
       " 'MntFishProducts',\n",
       " 'MntSweetProducts',\n",
       " 'MntGoldProds',\n",
       " 'NumDealsPurchases',\n",
       " 'NumWebPurchases',\n",
       " 'NumCatalogPurchases',\n",
       " 'NumStorePurchases',\n",
       " 'NumWebVisitsMonth']"
      ]
     },
     "execution_count": 22,
     "metadata": {},
     "output_type": "execute_result"
    }
   ],
   "source": [
    "continuous = [var for var in numerical if var not in discrete and var not in ['price']]\n",
    "\n",
    "print('There are {} numerical and continuous variables'.format(len(continuous)))\n",
    "continuous"
   ]
  },
  {
   "cell_type": "markdown",
   "id": "085d369b-f611-4844-a201-ab3b7375323d",
   "metadata": {
    "tags": []
   },
   "source": [
    "### Find categorical variables "
   ]
  },
  {
   "cell_type": "code",
   "execution_count": 23,
   "id": "961e6c69-bc6b-4ccd-9244-aefcceb4adf1",
   "metadata": {},
   "outputs": [
    {
     "name": "stdout",
     "output_type": "stream",
     "text": [
      "There are 2 categorical variables:\n"
     ]
    },
    {
     "data": {
      "text/plain": [
       "['Education', 'Marital_Status']"
      ]
     },
     "execution_count": 23,
     "metadata": {},
     "output_type": "execute_result"
    }
   ],
   "source": [
    "categorical = [var for var in data.columns if data[var].dtype=='O']  \n",
    "\n",
    "print('There are {} categorical variables:'.format(len(categorical)))\n",
    "categorical"
   ]
  },
  {
   "cell_type": "markdown",
   "id": "db6fa035-a3c4-4ecc-aae3-5d0e0729295c",
   "metadata": {},
   "source": [
    "Categorical variables inspection:"
   ]
  },
  {
   "cell_type": "code",
   "execution_count": 24,
   "id": "5484361b-280a-45b8-9ce2-1a357208de63",
   "metadata": {},
   "outputs": [
    {
     "data": {
      "text/html": [
       "<div>\n",
       "<style scoped>\n",
       "    .dataframe tbody tr th:only-of-type {\n",
       "        vertical-align: middle;\n",
       "    }\n",
       "\n",
       "    .dataframe tbody tr th {\n",
       "        vertical-align: top;\n",
       "    }\n",
       "\n",
       "    .dataframe thead th {\n",
       "        text-align: right;\n",
       "    }\n",
       "</style>\n",
       "<table border=\"1\" class=\"dataframe\">\n",
       "  <thead>\n",
       "    <tr style=\"text-align: right;\">\n",
       "      <th></th>\n",
       "      <th>unique</th>\n",
       "    </tr>\n",
       "  </thead>\n",
       "  <tbody>\n",
       "    <tr>\n",
       "      <th>Education</th>\n",
       "      <td>[Graduation, PhD, Master, Basic, 2n Cycle]</td>\n",
       "    </tr>\n",
       "    <tr>\n",
       "      <th>Marital_Status</th>\n",
       "      <td>[Single, Together, Married, Divorced, Widow, Alone, Absurd, YOLO]</td>\n",
       "    </tr>\n",
       "  </tbody>\n",
       "</table>\n",
       "</div>"
      ],
      "text/plain": [
       "                                                                           unique\n",
       "Education       [Graduation, PhD, Master, Basic, 2n Cycle]                       \n",
       "Marital_Status  [Single, Together, Married, Divorced, Widow, Alone, Absurd, YOLO]"
      ]
     },
     "execution_count": 24,
     "metadata": {},
     "output_type": "execute_result"
    }
   ],
   "source": [
    "pd.set_option('display.max_colwidth', 0)\n",
    "data[categorical].agg(['unique']).transpose()"
   ]
  },
  {
   "cell_type": "markdown",
   "id": "5179e671-3cbe-4d4e-841c-231893e3bcd5",
   "metadata": {},
   "source": [
    "---"
   ]
  },
  {
   "cell_type": "markdown",
   "id": "51eb7626-e7ba-4651-bed3-a6ee3137a54e",
   "metadata": {},
   "source": [
    "## A"
   ]
  },
  {
   "cell_type": "markdown",
   "id": "4866847b-803e-4728-8a5b-881680128676",
   "metadata": {
    "tags": []
   },
   "source": [
    "### Continuous Variables distributions"
   ]
  },
  {
   "cell_type": "code",
   "execution_count": 32,
   "id": "03d058aa-7241-4979-80b6-b40f74cf4c10",
   "metadata": {},
   "outputs": [],
   "source": [
    "fts = ['Year_Birth', 'Income', 'Recency', 'MntWines', 'MntFruits', 'MntMeatProducts', 'MntFishProducts', 'MntSweetProducts',\n",
    "       'MntGoldProds', 'NumDealsPurchases', 'NumWebPurchases', 'NumCatalogPurchases', 'NumStorePurchases', 'NumWebVisitsMonth']"
   ]
  },
  {
   "cell_type": "code",
   "execution_count": 36,
   "id": "0de68092-5e3f-44f7-b810-2803295be66f",
   "metadata": {},
   "outputs": [
    {
     "data": {
      "image/png": "[encoded data removed]",
      "text/plain": [
       "<Figure size 1300x900 with 16 Axes>"
      ]
     },
     "metadata": {},
     "output_type": "display_data"
    }
   ],
   "source": [
    "fig = plt.subplots(nrows=4,ncols=4,figsize = (11,7))\n",
    "\n",
    "for i in range(len(fts)):\n",
    "    plt.subplot(4,4,i+1)\n",
    "    ax = sns.histplot(data[fts[i]], color='dodgerblue', bins=20)\n",
    "\n",
    "plt.suptitle('Variables distributions', fontsize=14)\n",
    "plt.tight_layout()"
   ]
  },
  {
   "cell_type": "markdown",
   "id": "03f6b9c7-1ae7-4419-9a38-e523ccbf5287",
   "metadata": {},
   "source": [
    "----"
   ]
  },
  {
   "cell_type": "markdown",
   "id": "7d8ebde0-fcab-492b-95a8-b4f511e16354",
   "metadata": {},
   "source": [
    "## B"
   ]
  },
  {
   "cell_type": "code",
   "execution_count": 25,
   "id": "604491a5-2105-47b2-ac08-caa893856eae",
   "metadata": {},
   "outputs": [],
   "source": [
    "data['Age'] = 2024-data[\"Year_Birth\"]\n",
    "data[\"Total_Expenses\"] = data[\"MntWines\"] + data[\"MntFruits\"] + data[\"MntMeatProducts\"] + data[\"MntFishProducts\"] + data[\"MntSweetProducts\"] + data[\"MntGoldProds\"]\n",
    "data['Home_Share']=data[\"Marital_Status\"].replace({\"Married\":\"Partner\", \"Together\":\"Partner\", \"Absurd\":\"Alone\", \"Widow\":\"Alone\", \"YOLO\":\"Alone\", \"Divorced\":\"Alone\", \"Single\":\"Alone\",})\n",
    "data['Children']=data[\"Kidhome\"]+data[\"Teenhome\"]\n",
    "# data[\"Living_With\"]=data[\"Marital_Status\"].replace({\"Married\":\"Partner\", \"Together\":\"Partner\", \"Absurd\":\"Alone\", \"Widow\":\"Alone\", \"YOLO\":\"Alone\", \"Divorced\":\"Alone\", \"Single\":\"Alone\",})\n",
    "# data[\"Family_Size\"] = data[\"Living_With\"].replace({\"Alone\": 1, \"Partner\":2})+ data[\"Children\"]\n",
    "# data[\"Is_Parent\"] = np.where(data.Children> 0, 1, 0)\n",
    "data['Education_Level']=data['Education'].replace({'Basic':'Undergraduate','2n Cycle':'Undergraduate', 'Graduation':'Graduate', 'Master':'Postgraduate', 'PhD':'Postgraduate'})\n",
    "# data=data.rename(columns={\"MntWines\": \"Wines\",\"MntFruits\":\"Fruits\",\"MntMeatProducts\":\"Meat\",\"MntFishProducts\":\"Fish\",\"MntSweetProducts\":\"Sweets\",\"MntGoldProds\":\"Gold\"})"
   ]
  },
  {
   "cell_type": "markdown",
   "id": "24cd0bfe-fae3-4bbe-8e35-c958a285879f",
   "metadata": {},
   "source": [
    "Finally we'll drop features we don't need"
   ]
  },
  {
   "cell_type": "code",
   "execution_count": 26,
   "id": "9607a284-d0c6-4043-86da-0871b0c83da5",
   "metadata": {},
   "outputs": [],
   "source": [
    "data = data.drop([\"Marital_Status\", \"Dt_Customer\", \"Z_CostContact\", \"Z_Revenue\", \"Year_Birth\", \"ID\"], axis=1)"
   ]
  },
  {
   "cell_type": "code",
   "execution_count": 14,
   "id": "363141e5-fd69-4de9-b92f-de50fd215702",
   "metadata": {},
   "outputs": [
    {
     "data": {
      "text/html": [
       "<div>\n",
       "<style scoped>\n",
       "    .dataframe tbody tr th:only-of-type {\n",
       "        vertical-align: middle;\n",
       "    }\n",
       "\n",
       "    .dataframe tbody tr th {\n",
       "        vertical-align: top;\n",
       "    }\n",
       "\n",
       "    .dataframe thead th {\n",
       "        text-align: right;\n",
       "    }\n",
       "</style>\n",
       "<table border=\"1\" class=\"dataframe\">\n",
       "  <thead>\n",
       "    <tr style=\"text-align: right;\">\n",
       "      <th></th>\n",
       "      <th>Education</th>\n",
       "      <th>Income</th>\n",
       "      <th>Kidhome</th>\n",
       "      <th>Teenhome</th>\n",
       "      <th>Recency</th>\n",
       "      <th>MntWines</th>\n",
       "      <th>MntFruits</th>\n",
       "      <th>MntMeatProducts</th>\n",
       "      <th>MntFishProducts</th>\n",
       "      <th>MntSweetProducts</th>\n",
       "      <th>...</th>\n",
       "      <th>AcceptedCmp5</th>\n",
       "      <th>AcceptedCmp1</th>\n",
       "      <th>AcceptedCmp2</th>\n",
       "      <th>Complain</th>\n",
       "      <th>Response</th>\n",
       "      <th>Age</th>\n",
       "      <th>Total_Expenses</th>\n",
       "      <th>Home_Share</th>\n",
       "      <th>Children</th>\n",
       "      <th>Education_Level</th>\n",
       "    </tr>\n",
       "  </thead>\n",
       "  <tbody>\n",
       "    <tr>\n",
       "      <th>0</th>\n",
       "      <td>Graduation</td>\n",
       "      <td>58138.0</td>\n",
       "      <td>0</td>\n",
       "      <td>0</td>\n",
       "      <td>58</td>\n",
       "      <td>635</td>\n",
       "      <td>88</td>\n",
       "      <td>546</td>\n",
       "      <td>172</td>\n",
       "      <td>88</td>\n",
       "      <td>...</td>\n",
       "      <td>0</td>\n",
       "      <td>0</td>\n",
       "      <td>0</td>\n",
       "      <td>0</td>\n",
       "      <td>1</td>\n",
       "      <td>67</td>\n",
       "      <td>1617</td>\n",
       "      <td>Alone</td>\n",
       "      <td>0</td>\n",
       "      <td>Graduate</td>\n",
       "    </tr>\n",
       "    <tr>\n",
       "      <th>1</th>\n",
       "      <td>Graduation</td>\n",
       "      <td>46344.0</td>\n",
       "      <td>1</td>\n",
       "      <td>1</td>\n",
       "      <td>38</td>\n",
       "      <td>11</td>\n",
       "      <td>1</td>\n",
       "      <td>6</td>\n",
       "      <td>2</td>\n",
       "      <td>1</td>\n",
       "      <td>...</td>\n",
       "      <td>0</td>\n",
       "      <td>0</td>\n",
       "      <td>0</td>\n",
       "      <td>0</td>\n",
       "      <td>0</td>\n",
       "      <td>70</td>\n",
       "      <td>27</td>\n",
       "      <td>Alone</td>\n",
       "      <td>2</td>\n",
       "      <td>Graduate</td>\n",
       "    </tr>\n",
       "    <tr>\n",
       "      <th>2</th>\n",
       "      <td>Graduation</td>\n",
       "      <td>71613.0</td>\n",
       "      <td>0</td>\n",
       "      <td>0</td>\n",
       "      <td>26</td>\n",
       "      <td>426</td>\n",
       "      <td>49</td>\n",
       "      <td>127</td>\n",
       "      <td>111</td>\n",
       "      <td>21</td>\n",
       "      <td>...</td>\n",
       "      <td>0</td>\n",
       "      <td>0</td>\n",
       "      <td>0</td>\n",
       "      <td>0</td>\n",
       "      <td>0</td>\n",
       "      <td>59</td>\n",
       "      <td>776</td>\n",
       "      <td>Partner</td>\n",
       "      <td>0</td>\n",
       "      <td>Graduate</td>\n",
       "    </tr>\n",
       "    <tr>\n",
       "      <th>3</th>\n",
       "      <td>Graduation</td>\n",
       "      <td>26646.0</td>\n",
       "      <td>1</td>\n",
       "      <td>0</td>\n",
       "      <td>26</td>\n",
       "      <td>11</td>\n",
       "      <td>4</td>\n",
       "      <td>20</td>\n",
       "      <td>10</td>\n",
       "      <td>3</td>\n",
       "      <td>...</td>\n",
       "      <td>0</td>\n",
       "      <td>0</td>\n",
       "      <td>0</td>\n",
       "      <td>0</td>\n",
       "      <td>0</td>\n",
       "      <td>40</td>\n",
       "      <td>53</td>\n",
       "      <td>Partner</td>\n",
       "      <td>1</td>\n",
       "      <td>Graduate</td>\n",
       "    </tr>\n",
       "    <tr>\n",
       "      <th>4</th>\n",
       "      <td>PhD</td>\n",
       "      <td>58293.0</td>\n",
       "      <td>1</td>\n",
       "      <td>0</td>\n",
       "      <td>94</td>\n",
       "      <td>173</td>\n",
       "      <td>43</td>\n",
       "      <td>118</td>\n",
       "      <td>46</td>\n",
       "      <td>27</td>\n",
       "      <td>...</td>\n",
       "      <td>0</td>\n",
       "      <td>0</td>\n",
       "      <td>0</td>\n",
       "      <td>0</td>\n",
       "      <td>0</td>\n",
       "      <td>43</td>\n",
       "      <td>422</td>\n",
       "      <td>Partner</td>\n",
       "      <td>1</td>\n",
       "      <td>Postgraduate</td>\n",
       "    </tr>\n",
       "  </tbody>\n",
       "</table>\n",
       "<p>5 rows × 28 columns</p>\n",
       "</div>"
      ],
      "text/plain": [
       "    Education   Income  Kidhome  Teenhome  Recency  MntWines  MntFruits  \\\n",
       "0  Graduation  58138.0        0         0       58       635         88   \n",
       "1  Graduation  46344.0        1         1       38        11          1   \n",
       "2  Graduation  71613.0        0         0       26       426         49   \n",
       "3  Graduation  26646.0        1         0       26        11          4   \n",
       "4         PhD  58293.0        1         0       94       173         43   \n",
       "\n",
       "   MntMeatProducts  MntFishProducts  MntSweetProducts  ...  AcceptedCmp5  \\\n",
       "0              546              172                88  ...             0   \n",
       "1                6                2                 1  ...             0   \n",
       "2              127              111                21  ...             0   \n",
       "3               20               10                 3  ...             0   \n",
       "4              118               46                27  ...             0   \n",
       "\n",
       "   AcceptedCmp1  AcceptedCmp2  Complain  Response  Age  Total_Expenses  \\\n",
       "0             0             0         0         1   67            1617   \n",
       "1             0             0         0         0   70              27   \n",
       "2             0             0         0         0   59             776   \n",
       "3             0             0         0         0   40              53   \n",
       "4             0             0         0         0   43             422   \n",
       "\n",
       "   Home_Share  Children  Education_Level  \n",
       "0       Alone         0         Graduate  \n",
       "1       Alone         2         Graduate  \n",
       "2     Partner         0         Graduate  \n",
       "3     Partner         1         Graduate  \n",
       "4     Partner         1     Postgraduate  \n",
       "\n",
       "[5 rows x 28 columns]"
      ]
     },
     "execution_count": 14,
     "metadata": {},
     "output_type": "execute_result"
    }
   ],
   "source": [
    "data.head()"
   ]
  },
  {
   "cell_type": "code",
   "execution_count": null,
   "id": "676df058-03da-483c-8ba5-e4d81b7fda02",
   "metadata": {},
   "outputs": [],
   "source": []
  },
  {
   "cell_type": "code",
   "execution_count": 27,
   "id": "b55b5425-3e9d-4938-a297-7ce00f8c3161",
   "metadata": {},
   "outputs": [
    {
     "name": "stdout",
     "output_type": "stream",
     "text": [
      "There are 25 numerical variables:\n"
     ]
    },
    {
     "data": {
      "text/plain": [
       "['Income',\n",
       " 'Kidhome',\n",
       " 'Teenhome',\n",
       " 'Recency',\n",
       " 'MntWines',\n",
       " 'MntFruits',\n",
       " 'MntMeatProducts',\n",
       " 'MntFishProducts',\n",
       " 'MntSweetProducts',\n",
       " 'MntGoldProds',\n",
       " 'NumDealsPurchases',\n",
       " 'NumWebPurchases',\n",
       " 'NumCatalogPurchases',\n",
       " 'NumStorePurchases',\n",
       " 'NumWebVisitsMonth',\n",
       " 'AcceptedCmp3',\n",
       " 'AcceptedCmp4',\n",
       " 'AcceptedCmp5',\n",
       " 'AcceptedCmp1',\n",
       " 'AcceptedCmp2',\n",
       " 'Complain',\n",
       " 'Response',\n",
       " 'Age',\n",
       " 'Total_Expenses',\n",
       " 'Children']"
      ]
     },
     "execution_count": 27,
     "metadata": {},
     "output_type": "execute_result"
    }
   ],
   "source": [
    "numerical = [var for var in data.columns if data[var].dtype!='O']\n",
    "print('There are {} numerical variables:'.format(len(numerical)))\n",
    "numerical"
   ]
  },
  {
   "cell_type": "code",
   "execution_count": 28,
   "id": "a092cacb-662f-4bf8-8391-2db79e196500",
   "metadata": {},
   "outputs": [
    {
     "name": "stdout",
     "output_type": "stream",
     "text": [
      "There are 16 numerical and continuous variables\n"
     ]
    },
    {
     "data": {
      "text/plain": [
       "['Income',\n",
       " 'Recency',\n",
       " 'MntWines',\n",
       " 'MntFruits',\n",
       " 'MntMeatProducts',\n",
       " 'MntFishProducts',\n",
       " 'MntSweetProducts',\n",
       " 'MntGoldProds',\n",
       " 'NumDealsPurchases',\n",
       " 'NumWebPurchases',\n",
       " 'NumCatalogPurchases',\n",
       " 'NumStorePurchases',\n",
       " 'NumWebVisitsMonth',\n",
       " 'Age',\n",
       " 'Total_Expenses',\n",
       " 'Children']"
      ]
     },
     "execution_count": 28,
     "metadata": {},
     "output_type": "execute_result"
    }
   ],
   "source": [
    "continuous = [var for var in numerical if var not in discrete]\n",
    "\n",
    "print('There are {} numerical and continuous variables'.format(len(continuous)))\n",
    "continuous"
   ]
  },
  {
   "cell_type": "code",
   "execution_count": 29,
   "id": "eab24152-3f5b-44ee-87aa-8d9702200a60",
   "metadata": {},
   "outputs": [],
   "source": [
    "fts = ['Income', 'Recency', 'MntWines', 'MntFruits', 'MntMeatProducts', 'MntFishProducts', 'MntSweetProducts', 'MntGoldProds', 'NumDealsPurchases',\n",
    "       'NumWebPurchases', 'NumCatalogPurchases', 'NumStorePurchases', 'NumWebVisitsMonth', 'Age', 'Total_Expenses', 'Children']"
   ]
  },
  {
   "cell_type": "code",
   "execution_count": 34,
   "id": "ed925730-00da-45ca-bc13-a4357cc67bcd",
   "metadata": {},
   "outputs": [
    {
     "data": {
      "image/png": "[encoded data removed]",
      "text/plain": [
       "<Figure size 1100x700 with 16 Axes>"
      ]
     },
     "metadata": {},
     "output_type": "display_data"
    }
   ],
   "source": [
    "fig = plt.subplots(nrows=4,ncols=4,figsize = (11,7))\n",
    "\n",
    "for i in range(len(fts)):\n",
    "    plt.subplot(4,4,i+1)\n",
    "    ax = sns.histplot(data[fts[i]], color='dodgerblue', bins=20)\n",
    "\n",
    "plt.suptitle('Variables distributions', fontsize=14)\n",
    "plt.tight_layout()"
   ]
  },
  {
   "cell_type": "markdown",
   "id": "98378a58-0784-47df-915a-fb2ae28b91d4",
   "metadata": {},
   "source": [
    "----"
   ]
  },
  {
   "cell_type": "markdown",
   "id": "36581510-796a-4363-bdd5-79767489d07f",
   "metadata": {},
   "source": [
    "## Outliers Filtering"
   ]
  },
  {
   "cell_type": "code",
   "execution_count": 31,
   "id": "bb6f3ee0-40a8-494b-9e1a-746d9b00e7ee",
   "metadata": {},
   "outputs": [],
   "source": [
    "def plot_boxplot_and_hist(data, variable):\n",
    "\n",
    "    f, (ax_box, ax_hist) = plt.subplots(2, sharex=True, gridspec_kw={\"height_ratios\": (0.50, 0.85)})\n",
    "    \n",
    "    sns.boxplot(x=data[variable], ax=ax_box)\n",
    "    sns.histplot(data=data, x=variable, ax=ax_hist)\n",
    "    \n",
    "    ax_box.set(xlabel=\"\")\n",
    "    plt.title(variable)\n",
    "    plt.show()"
   ]
  },
  {
   "cell_type": "code",
   "execution_count": 32,
   "id": "c4adaf17-b708-4f47-b4e0-1ed0d316ddb5",
   "metadata": {},
   "outputs": [
    {
     "data": {
      "image/png": "[encoded data removed]",
      "text/plain": [
       "<Figure size 640x480 with 2 Axes>"
      ]
     },
     "metadata": {},
     "output_type": "display_data"
    }
   ],
   "source": [
    "plot_boxplot_and_hist(data, \"Age\") # before trimming"
   ]
  },
  {
   "cell_type": "code",
   "execution_count": 33,
   "id": "0e5d3b5d-bb02-4b81-a882-f412318b8f10",
   "metadata": {},
   "outputs": [
    {
     "data": {
      "image/png": "[encoded data removed]",
      "text/plain": [
       "<Figure size 640x480 with 2 Axes>"
      ]
     },
     "metadata": {},
     "output_type": "display_data"
    }
   ],
   "source": [
    "plot_boxplot_and_hist(data, \"Income\") # before trimming"
   ]
  },
  {
   "cell_type": "code",
   "execution_count": null,
   "id": "1c93513f-6fb9-4c85-85e8-97693a55837a",
   "metadata": {},
   "outputs": [],
   "source": []
  },
  {
   "cell_type": "code",
   "execution_count": 112,
   "id": "91580bc5-f511-4010-ab2a-f1ebc1a0d074",
   "metadata": {},
   "outputs": [],
   "source": [
    "trimmer = OutlierTrimmer(variables=[\"Age\", \"Credit amount\", \"Duration\"], \n",
    "                         capping_method=\"iqr\",\n",
    "                         tail=\"both\",\n",
    "                         fold=1.5,\n",
    "                         )"
   ]
  },
  {
   "cell_type": "code",
   "execution_count": 113,
   "id": "c4dd7be0-03ce-45a7-8f51-0174ac58703a",
   "metadata": {},
   "outputs": [
    {
     "data": {
      "text/html": [
       "<style>#sk-container-id-5 {color: black;background-color: white;}#sk-container-id-5 pre{padding: 0;}#sk-container-id-5 div.sk-toggleable {background-color: white;}#sk-container-id-5 label.sk-toggleable__label {cursor: pointer;display: block;width: 100%;margin-bottom: 0;padding: 0.3em;box-sizing: border-box;text-align: center;}#sk-container-id-5 label.sk-toggleable__label-arrow:before {content: \"▸\";float: left;margin-right: 0.25em;color: #696969;}#sk-container-id-5 label.sk-toggleable__label-arrow:hover:before {color: black;}#sk-container-id-5 div.sk-estimator:hover label.sk-toggleable__label-arrow:before {color: black;}#sk-container-id-5 div.sk-toggleable__content {max-height: 0;max-width: 0;overflow: hidden;text-align: left;background-color: #f0f8ff;}#sk-container-id-5 div.sk-toggleable__content pre {margin: 0.2em;color: black;border-radius: 0.25em;background-color: #f0f8ff;}#sk-container-id-5 input.sk-toggleable__control:checked~div.sk-toggleable__content {max-height: 200px;max-width: 100%;overflow: auto;}#sk-container-id-5 input.sk-toggleable__control:checked~label.sk-toggleable__label-arrow:before {content: \"▾\";}#sk-container-id-5 div.sk-estimator input.sk-toggleable__control:checked~label.sk-toggleable__label {background-color: #d4ebff;}#sk-container-id-5 div.sk-label input.sk-toggleable__control:checked~label.sk-toggleable__label {background-color: #d4ebff;}#sk-container-id-5 input.sk-hidden--visually {border: 0;clip: rect(1px 1px 1px 1px);clip: rect(1px, 1px, 1px, 1px);height: 1px;margin: -1px;overflow: hidden;padding: 0;position: absolute;width: 1px;}#sk-container-id-5 div.sk-estimator {font-family: monospace;background-color: #f0f8ff;border: 1px dotted black;border-radius: 0.25em;box-sizing: border-box;margin-bottom: 0.5em;}#sk-container-id-5 div.sk-estimator:hover {background-color: #d4ebff;}#sk-container-id-5 div.sk-parallel-item::after {content: \"\";width: 100%;border-bottom: 1px solid gray;flex-grow: 1;}#sk-container-id-5 div.sk-label:hover label.sk-toggleable__label {background-color: #d4ebff;}#sk-container-id-5 div.sk-serial::before {content: \"\";position: absolute;border-left: 1px solid gray;box-sizing: border-box;top: 0;bottom: 0;left: 50%;z-index: 0;}#sk-container-id-5 div.sk-serial {display: flex;flex-direction: column;align-items: center;background-color: white;padding-right: 0.2em;padding-left: 0.2em;position: relative;}#sk-container-id-5 div.sk-item {position: relative;z-index: 1;}#sk-container-id-5 div.sk-parallel {display: flex;align-items: stretch;justify-content: center;background-color: white;position: relative;}#sk-container-id-5 div.sk-item::before, #sk-container-id-5 div.sk-parallel-item::before {content: \"\";position: absolute;border-left: 1px solid gray;box-sizing: border-box;top: 0;bottom: 0;left: 50%;z-index: -1;}#sk-container-id-5 div.sk-parallel-item {display: flex;flex-direction: column;z-index: 1;position: relative;background-color: white;}#sk-container-id-5 div.sk-parallel-item:first-child::after {align-self: flex-end;width: 50%;}#sk-container-id-5 div.sk-parallel-item:last-child::after {align-self: flex-start;width: 50%;}#sk-container-id-5 div.sk-parallel-item:only-child::after {width: 0;}#sk-container-id-5 div.sk-dashed-wrapped {border: 1px dashed gray;margin: 0 0.4em 0.5em 0.4em;box-sizing: border-box;padding-bottom: 0.4em;background-color: white;}#sk-container-id-5 div.sk-label label {font-family: monospace;font-weight: bold;display: inline-block;line-height: 1.2em;}#sk-container-id-5 div.sk-label-container {text-align: center;}#sk-container-id-5 div.sk-container {/* jupyter's `normalize.less` sets `[hidden] { display: none; }` but bootstrap.min.css set `[hidden] { display: none !important; }` so we also need the `!important` here to be able to override the default hidden behavior on the sphinx rendered scikit-learn.org. See: https://github.com/scikit-learn/scikit-learn/issues/21755 */display: inline-block !important;position: relative;}#sk-container-id-5 div.sk-text-repr-fallback {display: none;}</style><div id=\"sk-container-id-5\" class=\"sk-top-container\"><div class=\"sk-text-repr-fallback\"><pre>OutlierTrimmer(capping_method=&#x27;iqr&#x27;, fold=1.5, tail=&#x27;both&#x27;,\n",
       "               variables=[&#x27;Age&#x27;, &#x27;Credit amount&#x27;, &#x27;Duration&#x27;])</pre><b>In a Jupyter environment, please rerun this cell to show the HTML representation or trust the notebook. <br />On GitHub, the HTML representation is unable to render, please try loading this page with nbviewer.org.</b></div><div class=\"sk-container\" hidden><div class=\"sk-item\"><div class=\"sk-estimator sk-toggleable\"><input class=\"sk-toggleable__control sk-hidden--visually\" id=\"sk-estimator-id-19\" type=\"checkbox\" checked><label for=\"sk-estimator-id-19\" class=\"sk-toggleable__label sk-toggleable__label-arrow\">OutlierTrimmer</label><div class=\"sk-toggleable__content\"><pre>OutlierTrimmer(capping_method=&#x27;iqr&#x27;, fold=1.5, tail=&#x27;both&#x27;,\n",
       "               variables=[&#x27;Age&#x27;, &#x27;Credit amount&#x27;, &#x27;Duration&#x27;])</pre></div></div></div></div></div>"
      ],
      "text/plain": [
       "OutlierTrimmer(capping_method='iqr', fold=1.5, tail='both',\n",
       "               variables=['Age', 'Credit amount', 'Duration'])"
      ]
     },
     "execution_count": 113,
     "metadata": {},
     "output_type": "execute_result"
    }
   ],
   "source": [
    "trimmer.fit(X_train_)"
   ]
  },
  {
   "cell_type": "code",
   "execution_count": 116,
   "id": "9df3dce1-79ae-4d4f-8606-35dcdd1ef426",
   "metadata": {},
   "outputs": [
    {
     "name": "stdout",
     "output_type": "stream",
     "text": [
      "(700, 10) (300, 10)\n",
      "(700,) (300,)\n",
      "(604, 10) (247, 10)\n",
      "(604,) (247,)\n"
     ]
    }
   ],
   "source": [
    "print(X_train_.shape, X_test_.shape)\n",
    "print(y_train.shape, y_test.shape)\n",
    "\n",
    "X_train__ = trimmer.transform(X_train_)\n",
    "X_test__ = trimmer.transform(X_test_)\n",
    "\n",
    "print(X_train__.shape, X_test__.shape)\n",
    "print(X_train__['Risk'].shape, X_test__['Risk'].shape) #-> this will be our y_train and y_test when we divide targets again"
   ]
  },
  {
   "cell_type": "markdown",
   "id": "b9d19279-6a3f-434e-91e5-ec887986cbc6",
   "metadata": {},
   "source": [
    "We will check how our trimmer worked visualizing the variables distributions:"
   ]
  },
  {
   "cell_type": "code",
   "execution_count": null,
   "id": "6da3d7af-06a2-4a17-b191-21c3d6423dfc",
   "metadata": {},
   "outputs": [],
   "source": []
  },
  {
   "cell_type": "markdown",
   "id": "23c6a780-1bb7-4a74-912b-1be923d661d6",
   "metadata": {},
   "source": [
    "## Scale (IB2/3)"
   ]
  },
  {
   "cell_type": "code",
   "execution_count": null,
   "id": "54560696-2fc3-4f9e-a96e-ce4c63a9c116",
   "metadata": {},
   "outputs": [],
   "source": []
  },
  {
   "cell_type": "markdown",
   "id": "e363a3ad-9680-46e3-bab5-550656f74b00",
   "metadata": {},
   "source": [
    "## PCA (idem)"
   ]
  },
  {
   "cell_type": "code",
   "execution_count": null,
   "id": "fed43ed7-e9c4-49a2-99f2-e80322ec63b8",
   "metadata": {},
   "outputs": [],
   "source": []
  }
 ],
 "metadata": {
  "kernelspec": {
   "display_name": "Python 3 (ipykernel)",
   "language": "python",
   "name": "python3"
  },
  "language_info": {
   "codemirror_mode": {
    "name": "ipython",
    "version": 3
   },
   "file_extension": ".py",
   "mimetype": "text/x-python",
   "name": "python",
   "nbconvert_exporter": "python",
   "pygments_lexer": "ipython3",
   "version": "3.11.3"
  }
 },
 "nbformat": 4,
 "nbformat_minor": 5
}
